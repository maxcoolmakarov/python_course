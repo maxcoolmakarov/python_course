{
 "cells": [
  {
   "cell_type": "markdown",
   "metadata": {},
   "source": [
    "# Семинар 1: Типы данных и структуры. Условные операторы и циклы.\n",
    "\n",
    "> Типы данных\n",
    "\n",
    "> Структуры данных\n",
    "\n",
    "> Оператор присваивания\n",
    "\n",
    "> Условные операторы\n",
    "\n",
    "> Циклы"
   ]
  },
  {
   "cell_type": "markdown",
   "metadata": {},
   "source": [
    "### Типы данных"
   ]
  },
  {
   "cell_type": "code",
   "execution_count": null,
   "metadata": {},
   "outputs": [],
   "source": [
    "\"\"\" Data Types\n",
    "\n",
    "Logical: bool.\n",
    "Numeric: int, float, complex.\n",
    "Text:    str.\n",
    "\"\"\"\n",
    "\n",
    "# Logical:\n",
    "print(type(True))    # bool\n",
    "print(type(False))   # bool\n",
    "\n",
    "# Numeric:\n",
    "print(type(5))       # int\n",
    "print(type(3.14))    # float\n",
    "print(type(1 + 2j))  # complex\n",
    "\n",
    "# Text:\n",
    "print(type('a'))     # str\n",
    "print(type(\"a\"))     # str"
   ]
  },
  {
   "cell_type": "code",
   "execution_count": null,
   "metadata": {},
   "outputs": [],
   "source": [
    "\"\"\"Mathematical operations\n",
    "\n",
    "Addition:       \"+\"  # adds the values on either side of the operator.\n",
    "Substraction:   \"-\"  # subtracts the value on the right from the one on the left.\n",
    "Multiplication: \"*\"  # multiplies the values on either side of the operator.\n",
    "Division:       \"/\"  # divides the value on the left by the one on the right.\n",
    "Exponentiation: \"**\" # raises the first number to the power of the second.\n",
    "Floor Division: \"//\" # divides and returns the integer value of the quotient.\n",
    "Modulus:        \"%\"  # divides and returns the value of the remainder.\n",
    "\"\"\"\n",
    "\n",
    "print(\"Logical:\")\n",
    "print(\"All mathematical operations are avaliable for 'bool' type.\")\n",
    "\n",
    "print(\"\\nNumeric:\")\n",
    "print(\"All mathematical operations are avaliable for 'int', 'float' and 'complex' types.\")\n",
    "\n",
    "print(\"\\nText:\")\n",
    "print(f\"Addition (concatenate) is avaliable for 'str': \\t {'a' + 'b' + 'c'}\")\n",
    "\n",
    "print(\"\\nTypes combination:\")\n",
    "h = 'hello'\n",
    "print(f\"Combination of 'str' and 'int': {h * 3}\")\n",
    "\n",
    "print(\"\\nOther operations:\")\n",
    "s = 'abc'\n",
    "print(f\"String is indexed: {s[1]}, {s[0]}, {s[-1]}\")\n",
    "print(f\"String slicing: {s[1:3]}, {s[:2]}, {s[1:]}\")"
   ]
  },
  {
   "cell_type": "code",
   "execution_count": null,
   "metadata": {},
   "outputs": [],
   "source": [
    "# True = 1, False = 0\n",
    "\n",
    "print(True + True)\n",
    "print(True - True)\n",
    "print(True * True)\n",
    "\n",
    "print()\n",
    "print(5 + True)\n",
    "print(5.1 + False)\n",
    "print(True + False)"
   ]
  },
  {
   "cell_type": "code",
   "execution_count": null,
   "metadata": {},
   "outputs": [],
   "source": [
    "print(5 / False)\n",
    "print(5 // False)\n",
    "print(5 % False)"
   ]
  },
  {
   "cell_type": "code",
   "execution_count": null,
   "metadata": {},
   "outputs": [],
   "source": [
    "print(\"name\" + \"name\" + \"name\")\n",
    "print(\"name\" * 3)"
   ]
  },
  {
   "cell_type": "code",
   "execution_count": null,
   "metadata": {},
   "outputs": [],
   "source": [
    "print(5 / 3)\n",
    "print(type(5 / 3))\n",
    "\n",
    "print()\n",
    "print(6 / 3)\n",
    "print(type(6 / 3))\n",
    "\n",
    "print()\n",
    "print(6 // 3)\n",
    "print(type(6 // 3))\n",
    "\n",
    "print()\n",
    "print(5 // 3)\n",
    "print(type(5 // 3))"
   ]
  },
  {
   "cell_type": "code",
   "execution_count": null,
   "metadata": {},
   "outputs": [],
   "source": [
    "print(type(0), type(0.0))"
   ]
  },
  {
   "cell_type": "code",
   "execution_count": null,
   "metadata": {},
   "outputs": [],
   "source": [
    "print(0 // 3)\n",
    "print(type(0 // 3))\n",
    "\n",
    "print()\n",
    "print(0 / 3)\n",
    "print(type(0 / 3))"
   ]
  },
  {
   "cell_type": "code",
   "execution_count": null,
   "metadata": {},
   "outputs": [],
   "source": [
    "print(5.1 + 3.1)\n",
    "print(5.10 - 3.10) # oops https://docs.python.org/3/tutorial/floatingpoint.html\n",
    "print(5.1 * 3.1)\n",
    "print(5.1 / 3.1)\n",
    "\n",
    "print(5.1 // 3.1)\n",
    "print(5.1 % 3.1)"
   ]
  },
  {
   "cell_type": "markdown",
   "metadata": {},
   "source": [
    "### Структуры данных"
   ]
  },
  {
   "cell_type": "code",
   "execution_count": null,
   "metadata": {},
   "outputs": [],
   "source": [
    "\"\"\"Data Structure: List\n",
    "\n",
    "Description: Lists are positionally ordered collections of arbitrarily typed objects,\n",
    "             and they have no fixed size.\n",
    "             List is mutable (list can be modified in-place by assignment to offsets as well as \n",
    "             a variety of list method calls).\n",
    "\"\"\"\n",
    "\n",
    "\n",
    "\n",
    "# Creating a List with \n",
    "# the use of multiple values \n",
    "List = [\"Geeks\", \"For\", \"Geeks\"] \n",
    "print(\"\\nList containing multiple values: \") \n",
    "print(List)\n",
    " \n",
    "\n",
    "# Creating a Multi-Dimensional List \n",
    "# (By Nesting a list inside a List) \n",
    "List2 = [['Geeks', 'For'], ['Geeks']] \n",
    "print(\"\\nMulti-Dimensional List: \") \n",
    "print(List2) \n",
    " \n",
    "# accessing a element from the  \n",
    "# list using index number \n",
    "print(\"Accessing element from the list\") \n",
    "print(List[0])  \n",
    "print(List[2]) \n",
    " \n",
    "# accessing a element using \n",
    "# negative indexing \n",
    "print(\"Accessing element using negative indexing\") \n",
    "     \n",
    "# print the last element of list \n",
    "print(List[-1]) \n",
    "     \n",
    "# print the third last element of list  \n",
    "print(List[-3])"
   ]
  },
  {
   "cell_type": "code",
   "execution_count": null,
   "metadata": {},
   "outputs": [],
   "source": [
    "# A list of three different-type objects\n",
    "my_list = [123, 'spam', 1.23]\n",
    "\n",
    "print(f\"Number of items in the list: {len(my_list)}\")\n",
    "print(f\"Indexing by position: {my_list[0]}\")\n",
    "print(f\"Slicing a list: {my_list[1:3]}\")       # returns a new list\n",
    "print(f\"Concatenation: {my_list + [1, 2, 3]}\") # concatenation makes a new list too\n",
    "\n",
    "\"Conclusion (List): positionally ordered collection | mutable\""
   ]
  },
  {
   "cell_type": "markdown",
   "metadata": {},
   "source": [
    "Типы и структуры данных бывают mutable(изменяемые) и immutable(неизменяемые)"
   ]
  },
  {
   "cell_type": "code",
   "execution_count": null,
   "metadata": {},
   "outputs": [],
   "source": [
    "\"\"\"\n",
    "immutable: int, float, complex, bytes, bool, string, tuple\n",
    "mutable: dict, list, set, bytearray\n",
    "\"\"\"\n",
    "word_counter = letter_counter = 0\n",
    "print(\"word counter id: \", id(word_counter))\n",
    "print(\"letter counter id: \", id(letter_counter))\n",
    "\n",
    "word_counter += 1\n",
    "word_counter\n",
    "print(\"word counter id: \", id(word_counter))\n",
    "\n",
    "print(\"letter_counter: \", letter_counter)\n",
    "print(\"letter counter id: \", id(letter_counter))"
   ]
  },
  {
   "cell_type": "code",
   "execution_count": null,
   "metadata": {},
   "outputs": [],
   "source": [
    "# Regular operator\n",
    "inventory = {\"apples\": 42} | {\"bananas\": 24} # union operator\n",
    "print(\"inventory: \", inventory)\n",
    "print(\"id inventory: \", id(inventory))\n",
    "\n",
    "# Augmented operator\n",
    "inventory = {\"apples\": 42}\n",
    "print(\"inventory: \", inventory)\n",
    "print(\"id inventory: \", id(inventory))\n",
    "\n",
    "inventory |= {\"bananas\": 24}\n",
    "print(\"inventory: \", inventory)\n",
    "print(\"id inventory: \", id(inventory))\n"
   ]
  },
  {
   "cell_type": "markdown",
   "metadata": {},
   "source": [
    "##### Важность изменяемых типов данных"
   ]
  },
  {
   "cell_type": "code",
   "execution_count": null,
   "metadata": {},
   "outputs": [],
   "source": [
    "a = 3\n",
    "b = a\n",
    "a = a + 2\n",
    "print(f\"a: {a}\")\n",
    "print(f\"b: {b}\")"
   ]
  },
  {
   "cell_type": "code",
   "execution_count": null,
   "metadata": {},
   "outputs": [],
   "source": [
    "l1 = [2, 3, 4]      # A mutable object\n",
    "l2 = l1             # Make a reference to the same object\n",
    "\n",
    "l1[0] = 24          # An in-place change\n",
    "print(f\"l1: {l1}\")  # L1 is different\n",
    "print(f\"l2: {l2}\")  # But so is L2!"
   ]
  },
  {
   "cell_type": "markdown",
   "metadata": {},
   "source": [
    "### Оператор присваивания"
   ]
  },
  {
   "cell_type": "code",
   "execution_count": null,
   "metadata": {},
   "outputs": [],
   "source": [
    "\"\"\"Assignment Operators\n",
    "Operators are used to perform operations on values and variables.\n",
    "\n",
    "Assign:             \"=\"\n",
    "Description:        Assign value of right side of expression to left side operand\n",
    "Syntax:             x = y + z\n",
    "\n",
    "Add and Assign:     \"+=\"\n",
    "Description:        Add and Assign: Add right side operand with left side operand and then assign to left operand\n",
    "Syntax:             a += b\n",
    "\n",
    "Subtract:           \"-=\"\n",
    "Description:        Subtract right operand from left operand and then assign to left operand\n",
    "Syntax:             a -= b\n",
    "\n",
    "Multiply:           \"*=\"\n",
    "Description:        Multiply right operand with left operand and then assign to left operand\n",
    "Syntax:             a *= b\n",
    "\n",
    "Divide:             \"/=\"\n",
    "Description:        Divide left operand with right operand and then assign to left operand\n",
    "Syntax:             a /= b\n",
    "\n",
    "Exponent:           \"**=\"\n",
    "Description:        Calculate exponent(raise power) value using operands and assign value to left operand\n",
    "Syntax:             a **= b\n",
    "\n",
    "Divide (floor):     \"//=\"\n",
    "Description:        Divide left operand with right operand and then assign the value(floor) to left operand\n",
    "Syntax:             a //= b\n",
    "\n",
    "Modulus:            \"%=\"\n",
    "Description:        Takes modulus using left and right operands and assign result to left operand\n",
    "Syntax:             a %= b\n",
    "\"\"\"\n",
    "\n",
    "number = 6\n",
    "number -= 5\n",
    "print(number)"
   ]
  },
  {
   "cell_type": "code",
   "execution_count": null,
   "metadata": {},
   "outputs": [],
   "source": [
    "salary = 10   # month salary\n",
    "print(salary)\n",
    "\n",
    "# salary = salary * 1.2\n",
    "# print(salary)\n",
    "\n",
    "salary *= 1.2\n",
    "print(salary)"
   ]
  },
  {
   "cell_type": "code",
   "execution_count": null,
   "metadata": {},
   "outputs": [],
   "source": [
    "salary = 10   # month salary\n",
    "\n",
    "salary = salary * 12\n",
    "print(salary)"
   ]
  },
  {
   "cell_type": "code",
   "execution_count": null,
   "metadata": {},
   "outputs": [],
   "source": [
    "salary = 10   # month salary\n",
    "\n",
    "salary *= 12  # year salary\n",
    "print(salary)"
   ]
  },
  {
   "cell_type": "code",
   "execution_count": null,
   "metadata": {},
   "outputs": [],
   "source": [
    "salary = 120  # year salary\n",
    "\n",
    "# month salary\n",
    "salary //= 12\n",
    "\n",
    "print(salary)"
   ]
  },
  {
   "cell_type": "code",
   "execution_count": null,
   "metadata": {},
   "outputs": [],
   "source": [
    "a, b = 33, 200\n",
    "print(a, b)\n",
    "b, a = a, b\n",
    "print(a, b)"
   ]
  },
  {
   "cell_type": "markdown",
   "metadata": {},
   "source": [
    "### Условные операторы"
   ]
  },
  {
   "cell_type": "code",
   "execution_count": null,
   "metadata": {},
   "outputs": [],
   "source": [
    "\"\"\"Conditions\n",
    "\n",
    "Python supports the usual logical conditions from mathematics:\n",
    "\n",
    "Equals:                   a == b\n",
    "Not Equals:               a != b\n",
    "Less than:                a < b\n",
    "Less than or equal to:    a <= b\n",
    "Greater than:             a > b\n",
    "Greater than or equal to: a >= b\n",
    "\n",
    "Return: True or False\n",
    "\"\"\"\n",
    "\n",
    "print(5 == 6)\n",
    "print(5 != 6)\n",
    "print(5 < 6)"
   ]
  },
  {
   "cell_type": "code",
   "execution_count": null,
   "metadata": {},
   "outputs": [],
   "source": [
    "\"\"\"if statements\n",
    "An 'if statement' is written by using the 'if' keyword.\n",
    "\n",
    "Indentation:\n",
    "Python relies on indentation (whitespace at the beginning of a line) to define scope in the code. \n",
    "Other programming languages often use curly-brackets '{}' for this purpose.\n",
    "\n",
    "If statement, without indentation (will raise an error)!\n",
    "\"\"\"\n",
    "\n",
    "# example\n",
    "a, b = 33, 200\n",
    "\n",
    "# a = 33\n",
    "# b = 200\n",
    "\n",
    "if b > a:\n",
    "    print(f\"{b} is greater than {a}\")\n",
    "    print(b - a)\n",
    "    print(a + b)"
   ]
  },
  {
   "cell_type": "code",
   "execution_count": null,
   "metadata": {},
   "outputs": [],
   "source": [
    "\"\"\" elif (else if) keyword\n",
    "The 'elif' keyword is pythons way of saying \"if the previous conditions were not true, then try this condition\".\n",
    "\"\"\"\n",
    "\n",
    "a, b = 34, 33\n",
    "\n",
    "if b > a:\n",
    "    print(f\"{b} is greater than {a}\")\n",
    "elif a == b:  # else if\n",
    "    print(f\"{a} and {b} are equal\")"
   ]
  },
  {
   "cell_type": "code",
   "execution_count": null,
   "metadata": {},
   "outputs": [],
   "source": [
    "\"\"\" else keyword\n",
    "The 'else' keyword catches anything which isn't caught by the preceding conditions.\n",
    "\"\"\"\n",
    "\n",
    "a, b = 200, 200\n",
    "\n",
    "if b > a:  # False\n",
    "    print(\"b is greater than a\")\n",
    "elif a == b:    # False\n",
    "    print(\"a and b are equal\")\n",
    "elif a == 200:  # False\n",
    "    print(\"a and b are equal\")\n",
    "else:  # иначе\n",
    "    print(\"a is greater than b\")"
   ]
  },
  {
   "cell_type": "code",
   "execution_count": null,
   "metadata": {},
   "outputs": [],
   "source": [
    "# You can also have an 'else' without the 'elif'\n",
    "\n",
    "a = 200\n",
    "b = 33\n",
    "if b > a:\n",
    "    print(\"b is greater than a\")\n",
    "else:\n",
    "    print(\"b is not greater than a\")"
   ]
  },
  {
   "cell_type": "code",
   "execution_count": null,
   "metadata": {},
   "outputs": [],
   "source": [
    "\"\"\"and/or keyword\n",
    "The 'and' keyword and 'or' keyword are logical operators, and are used to combine conditional statements\n",
    "\"\"\"\n",
    "\n",
    "# Example 1: 'and' keyword\n",
    "a = 200\n",
    "b = 33\n",
    "c = 500\n",
    "if a > b and c > a:\n",
    "    print(\"Both conditions are True\")"
   ]
  },
  {
   "cell_type": "code",
   "execution_count": null,
   "metadata": {},
   "outputs": [],
   "source": [
    "# Example 2: 'or' keyword\n",
    "a = 200\n",
    "b = 33\n",
    "c = 500\n",
    "if a > b or a > c:\n",
    "    print(\"At least one of the conditions is True\")"
   ]
  },
  {
   "cell_type": "markdown",
   "metadata": {},
   "source": [
    "### Циклы"
   ]
  },
  {
   "cell_type": "code",
   "execution_count": null,
   "metadata": {},
   "outputs": [],
   "source": [
    "\"\"\"\n",
    "A for loop is used for iterating over a sequence (that is either a list, a tuple, a dictionary, a set, or a string).\n",
    "\"\"\"\n",
    "\n",
    "# iterating over a list\n",
    "fruits = [\"apple\", \"banana\", \"cherry\"]\n",
    "for x in fruits:\n",
    "  print(x)\n",
    "\n",
    "print()\n",
    "\n",
    "# iterating over string\n",
    "for x in \"banana\":\n",
    "  print(x)\n",
    "\n",
    "print()\n",
    "\n",
    "# break statement \n",
    "fruits = [\"apple\", \"banana\", \"cherry\", \"orange\"]\n",
    "for x in fruits:\n",
    "  print(x)\n",
    "  if x == \"banana\":\n",
    "    break    "
   ]
  },
  {
   "cell_type": "markdown",
   "metadata": {},
   "source": [
    "range(statrt=0,stop, step=1)"
   ]
  },
  {
   "cell_type": "code",
   "execution_count": null,
   "metadata": {},
   "outputs": [],
   "source": [
    "for x in range(6):\n",
    "  print(x)\n",
    "\n",
    "for x in range(2, 6):\n",
    "  print(x)\n",
    "\n",
    "for x in range(2, 30, 3):\n",
    "  print(x)"
   ]
  },
  {
   "cell_type": "markdown",
   "metadata": {},
   "source": [
    "Вложенные циклы"
   ]
  },
  {
   "cell_type": "code",
   "execution_count": null,
   "metadata": {},
   "outputs": [],
   "source": [
    "adj = [\"red\", \"big\", \"tasty\"]\n",
    "fruits = [\"apple\", \"banana\", \"cherry\"]\n",
    "\n",
    "for x in adj:\n",
    "  for y in fruits:\n",
    "    print(x, y)"
   ]
  },
  {
   "cell_type": "code",
   "execution_count": null,
   "metadata": {},
   "outputs": [],
   "source": [
    "for x in [0, 1, 2]:\n",
    "  pass"
   ]
  },
  {
   "cell_type": "markdown",
   "metadata": {},
   "source": [
    "### While"
   ]
  },
  {
   "cell_type": "code",
   "execution_count": null,
   "metadata": {},
   "outputs": [],
   "source": [
    "i = 1\n",
    "while i < 6:\n",
    "  print(i)\n",
    "  i += 1"
   ]
  },
  {
   "cell_type": "code",
   "execution_count": null,
   "metadata": {},
   "outputs": [],
   "source": [
    "i = 1\n",
    "while i < 6:\n",
    "  print(i)\n",
    "  if i == 3:\n",
    "    break\n",
    "  i += 1 "
   ]
  },
  {
   "cell_type": "markdown",
   "metadata": {},
   "source": [
    "### References:\n",
    "<ol>\n",
    "<li> <a href=\"https://www.geeksforgeeks.org/assignment-operators-in-python/\">Assignment operators</a> </li>\n",
    "<li> <a href=\"https://www.w3schools.com/python/python_conditions.asp\">Conditions and if statements</a> </li>\n",
    "<li> <a href=\"https://www.w3schools.com/python/python_for_loops.asp\">Python For Loops</a> </li>\n",
    "<li> <a href=\"https://www.w3schools.com/python/python_while_loops.asp\">Python While Loops</a> </li>\n",
    "</ol>"
   ]
  }
 ],
 "metadata": {
  "kernelspec": {
   "display_name": "Python 3 (ipykernel)",
   "language": "python",
   "name": "python3"
  },
  "language_info": {
   "codemirror_mode": {
    "name": "ipython",
    "version": 3
   },
   "file_extension": ".py",
   "mimetype": "text/x-python",
   "name": "python",
   "nbconvert_exporter": "python",
   "pygments_lexer": "ipython3",
   "version": "3.10.12"
  }
 },
 "nbformat": 4,
 "nbformat_minor": 4
}
